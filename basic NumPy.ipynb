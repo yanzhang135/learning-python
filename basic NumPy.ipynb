{
  "nbformat": 4,
  "nbformat_minor": 0,
  "metadata": {
    "colab": {
      "name": "NumPy.ipynb",
      "provenance": [],
      "collapsed_sections": [],
      "toc_visible": true,
      "authorship_tag": "ABX9TyOhYlZUvVoiUWvtbQmJ/y6I",
      "include_colab_link": true
    },
    "kernelspec": {
      "name": "python3",
      "display_name": "Python 3"
    },
    "language_info": {
      "name": "python"
    }
  },
  "cells": [
    {
      "cell_type": "markdown",
      "metadata": {
        "id": "view-in-github",
        "colab_type": "text"
      },
      "source": [
        "<a href=\"https://colab.research.google.com/github/yanzhang135/learning-python/blob/main/basic%20NumPy.ipynb\" target=\"_parent\"><img src=\"https://colab.research.google.com/assets/colab-badge.svg\" alt=\"Open In Colab\"/></a>"
      ]
    },
    {
      "cell_type": "code",
      "metadata": {
        "id": "5eeLhxDggBNu"
      },
      "source": [
        "import numpy as np"
      ],
      "execution_count": 3,
      "outputs": []
    },
    {
      "cell_type": "markdown",
      "metadata": {
        "id": "Lkjs97XWzlwQ"
      },
      "source": [
        "# Basic Numpy Arrays"
      ]
    },
    {
      "cell_type": "code",
      "metadata": {
        "colab": {
          "base_uri": "https://localhost:8080/"
        },
        "id": "vlomelg6ztM4",
        "outputId": "e0c7e0b0-1a7b-4151-dbf9-d8aaef3f0243"
      },
      "source": [
        "np.array([1,2,3,4])"
      ],
      "execution_count": 4,
      "outputs": [
        {
          "output_type": "execute_result",
          "data": {
            "text/plain": [
              "array([1, 2, 3, 4])"
            ]
          },
          "metadata": {
            "tags": []
          },
          "execution_count": 4
        }
      ]
    },
    {
      "cell_type": "code",
      "metadata": {
        "id": "wE7__9cbz_o6"
      },
      "source": [
        "a = np.array([1,2,3,4])"
      ],
      "execution_count": 5,
      "outputs": []
    },
    {
      "cell_type": "code",
      "metadata": {
        "id": "BAeKk-xH0DBR"
      },
      "source": [
        "b = np.array([0, .5, 1, 1.5, 2])"
      ],
      "execution_count": 6,
      "outputs": []
    },
    {
      "cell_type": "code",
      "metadata": {
        "colab": {
          "base_uri": "https://localhost:8080/"
        },
        "id": "l2L8c4PA0KqU",
        "outputId": "55f25ee3-7c20-4200-aa9f-5703676864e8"
      },
      "source": [
        "a[0], a[1]"
      ],
      "execution_count": 7,
      "outputs": [
        {
          "output_type": "execute_result",
          "data": {
            "text/plain": [
              "(1, 2)"
            ]
          },
          "metadata": {
            "tags": []
          },
          "execution_count": 7
        }
      ]
    },
    {
      "cell_type": "code",
      "metadata": {
        "colab": {
          "base_uri": "https://localhost:8080/"
        },
        "id": "QQ-p7Rkc0RQL",
        "outputId": "b017a951-9be4-4a53-8208-9027cb52da18"
      },
      "source": [
        "a[0:]"
      ],
      "execution_count": 8,
      "outputs": [
        {
          "output_type": "execute_result",
          "data": {
            "text/plain": [
              "array([1, 2, 3, 4])"
            ]
          },
          "metadata": {
            "tags": []
          },
          "execution_count": 8
        }
      ]
    },
    {
      "cell_type": "code",
      "metadata": {
        "colab": {
          "base_uri": "https://localhost:8080/"
        },
        "id": "vPXOr10Z0Tm8",
        "outputId": "f73c5d15-706f-4088-fc34-6565c7011bdf"
      },
      "source": [
        "a[1:3]"
      ],
      "execution_count": 9,
      "outputs": [
        {
          "output_type": "execute_result",
          "data": {
            "text/plain": [
              "array([2, 3])"
            ]
          },
          "metadata": {
            "tags": []
          },
          "execution_count": 9
        }
      ]
    },
    {
      "cell_type": "code",
      "metadata": {
        "colab": {
          "base_uri": "https://localhost:8080/"
        },
        "id": "ZZIB754C0XXJ",
        "outputId": "f8c140b8-259c-4935-cfb5-8357a43c1d7e"
      },
      "source": [
        "a[1:-1]"
      ],
      "execution_count": 10,
      "outputs": [
        {
          "output_type": "execute_result",
          "data": {
            "text/plain": [
              "array([2, 3])"
            ]
          },
          "metadata": {
            "tags": []
          },
          "execution_count": 10
        }
      ]
    },
    {
      "cell_type": "code",
      "metadata": {
        "colab": {
          "base_uri": "https://localhost:8080/"
        },
        "id": "uBdLIVHS0grb",
        "outputId": "b4662af6-1e70-451f-9bff-5158d767731d"
      },
      "source": [
        "a[::2]"
      ],
      "execution_count": 11,
      "outputs": [
        {
          "output_type": "execute_result",
          "data": {
            "text/plain": [
              "array([1, 3])"
            ]
          },
          "metadata": {
            "tags": []
          },
          "execution_count": 11
        }
      ]
    },
    {
      "cell_type": "markdown",
      "metadata": {
        "id": "sUmlMYWB0q_O"
      },
      "source": [
        "numpy array is very similar to python list"
      ]
    },
    {
      "cell_type": "code",
      "metadata": {
        "colab": {
          "base_uri": "https://localhost:8080/"
        },
        "id": "3P9jCYey0yXe",
        "outputId": "400e05bd-d76d-4466-ad73-b3207eb3cd98"
      },
      "source": [
        "b[0], b[2], b[-1]"
      ],
      "execution_count": 12,
      "outputs": [
        {
          "output_type": "execute_result",
          "data": {
            "text/plain": [
              "(0.0, 1.0, 2.0)"
            ]
          },
          "metadata": {
            "tags": []
          },
          "execution_count": 12
        }
      ]
    },
    {
      "cell_type": "markdown",
      "metadata": {
        "id": "HZDiJ7OyO5nU"
      },
      "source": [
        "select the same elements with a numpy array which is much faster"
      ]
    },
    {
      "cell_type": "code",
      "metadata": {
        "colab": {
          "base_uri": "https://localhost:8080/"
        },
        "id": "P3anG9pZ08hp",
        "outputId": "cfc3875a-62ab-436a-c5cb-b0d72b20ef7f"
      },
      "source": [
        "b[[0, 2, -1]]"
      ],
      "execution_count": 13,
      "outputs": [
        {
          "output_type": "execute_result",
          "data": {
            "text/plain": [
              "array([0., 1., 2.])"
            ]
          },
          "metadata": {
            "tags": []
          },
          "execution_count": 13
        }
      ]
    },
    {
      "cell_type": "markdown",
      "metadata": {
        "id": "HgVuL8D81G7w"
      },
      "source": [
        "# Array Types"
      ]
    },
    {
      "cell_type": "code",
      "metadata": {
        "colab": {
          "base_uri": "https://localhost:8080/"
        },
        "id": "oNvubfpOPLq0",
        "outputId": "798c407e-eef5-42ab-d8db-40e095e352cc"
      },
      "source": [
        "a"
      ],
      "execution_count": 14,
      "outputs": [
        {
          "output_type": "execute_result",
          "data": {
            "text/plain": [
              "array([1, 2, 3, 4])"
            ]
          },
          "metadata": {
            "tags": []
          },
          "execution_count": 14
        }
      ]
    },
    {
      "cell_type": "code",
      "metadata": {
        "colab": {
          "base_uri": "https://localhost:8080/"
        },
        "id": "jgrxOfT81JUa",
        "outputId": "af78cfbb-e8f7-4df0-b3c5-9893cf9cd9a2"
      },
      "source": [
        "a.dtype"
      ],
      "execution_count": 15,
      "outputs": [
        {
          "output_type": "execute_result",
          "data": {
            "text/plain": [
              "dtype('int64')"
            ]
          },
          "metadata": {
            "tags": []
          },
          "execution_count": 15
        }
      ]
    },
    {
      "cell_type": "code",
      "metadata": {
        "colab": {
          "base_uri": "https://localhost:8080/"
        },
        "id": "4LiwlVdMOJhp",
        "outputId": "4b723d50-9368-49d9-ede4-9860e2992e49"
      },
      "source": [
        "b"
      ],
      "execution_count": 16,
      "outputs": [
        {
          "output_type": "execute_result",
          "data": {
            "text/plain": [
              "array([0. , 0.5, 1. , 1.5, 2. ])"
            ]
          },
          "metadata": {
            "tags": []
          },
          "execution_count": 16
        }
      ]
    },
    {
      "cell_type": "code",
      "metadata": {
        "colab": {
          "base_uri": "https://localhost:8080/"
        },
        "id": "kaxdW1c_PbfG",
        "outputId": "2fdb35e4-d443-483b-b8fa-f1ace1319f45"
      },
      "source": [
        "b.dtype"
      ],
      "execution_count": 17,
      "outputs": [
        {
          "output_type": "execute_result",
          "data": {
            "text/plain": [
              "dtype('float64')"
            ]
          },
          "metadata": {
            "tags": []
          },
          "execution_count": 17
        }
      ]
    },
    {
      "cell_type": "code",
      "metadata": {
        "colab": {
          "base_uri": "https://localhost:8080/"
        },
        "id": "k0TUL5cMPc_5",
        "outputId": "2b551fec-e1ad-4787-9007-2402a4c67928"
      },
      "source": [
        "np.array([1,2,3,], dtype = np.float)"
      ],
      "execution_count": 18,
      "outputs": [
        {
          "output_type": "execute_result",
          "data": {
            "text/plain": [
              "array([1., 2., 3.])"
            ]
          },
          "metadata": {
            "tags": []
          },
          "execution_count": 18
        }
      ]
    },
    {
      "cell_type": "markdown",
      "metadata": {
        "id": "mZIO1FeKPpbf"
      },
      "source": [
        "# Dimensions and shapes"
      ]
    },
    {
      "cell_type": "code",
      "metadata": {
        "id": "X3ddbhHHPraC"
      },
      "source": [
        "A = np.array([ \n",
        "   [1,2,3],\n",
        "   [4,5,6]           \n",
        "])"
      ],
      "execution_count": 19,
      "outputs": []
    },
    {
      "cell_type": "code",
      "metadata": {
        "colab": {
          "base_uri": "https://localhost:8080/"
        },
        "id": "dx8EuKZjP5Wp",
        "outputId": "41780f99-c175-48aa-aa9c-d4336a6310c1"
      },
      "source": [
        "A.shape"
      ],
      "execution_count": 20,
      "outputs": [
        {
          "output_type": "execute_result",
          "data": {
            "text/plain": [
              "(2, 3)"
            ]
          },
          "metadata": {
            "tags": []
          },
          "execution_count": 20
        }
      ]
    },
    {
      "cell_type": "code",
      "metadata": {
        "colab": {
          "base_uri": "https://localhost:8080/"
        },
        "id": "k2cIMZnPP7d-",
        "outputId": "7061e2a8-8b39-4362-a02c-1f8fd19271ba"
      },
      "source": [
        "A.ndim"
      ],
      "execution_count": 21,
      "outputs": [
        {
          "output_type": "execute_result",
          "data": {
            "text/plain": [
              "2"
            ]
          },
          "metadata": {
            "tags": []
          },
          "execution_count": 21
        }
      ]
    },
    {
      "cell_type": "code",
      "metadata": {
        "colab": {
          "base_uri": "https://localhost:8080/"
        },
        "id": "kXkR3YSHP9eR",
        "outputId": "edf3251c-7fb4-4037-a711-f9d88717d2e5"
      },
      "source": [
        "A.size"
      ],
      "execution_count": 22,
      "outputs": [
        {
          "output_type": "execute_result",
          "data": {
            "text/plain": [
              "6"
            ]
          },
          "metadata": {
            "tags": []
          },
          "execution_count": 22
        }
      ]
    },
    {
      "cell_type": "code",
      "metadata": {
        "id": "pi5_9x_XP_Fy"
      },
      "source": [
        "B = np.array([\n",
        "              [\n",
        "               [12,11,10],\n",
        "               [9,8,7],\n",
        "              ],\n",
        "              [\n",
        "               [6,5,4],\n",
        "               [3,2,1]\n",
        "              ]\n",
        "])"
      ],
      "execution_count": 25,
      "outputs": []
    },
    {
      "cell_type": "code",
      "metadata": {
        "colab": {
          "base_uri": "https://localhost:8080/"
        },
        "id": "kPGgYyQ9QVVQ",
        "outputId": "f0ab6615-74e6-4e75-f0c2-dc3ba4d156b8"
      },
      "source": [
        "B"
      ],
      "execution_count": 26,
      "outputs": [
        {
          "output_type": "execute_result",
          "data": {
            "text/plain": [
              "array([[[12, 11, 10],\n",
              "        [ 9,  8,  7]],\n",
              "\n",
              "       [[ 6,  5,  4],\n",
              "        [ 3,  2,  1]]])"
            ]
          },
          "metadata": {
            "tags": []
          },
          "execution_count": 26
        }
      ]
    },
    {
      "cell_type": "code",
      "metadata": {
        "colab": {
          "base_uri": "https://localhost:8080/"
        },
        "id": "R6Bl8z-rQXWb",
        "outputId": "a5a64288-2e3e-4bd1-cf54-4956a2fe20da"
      },
      "source": [
        "B.shape"
      ],
      "execution_count": 27,
      "outputs": [
        {
          "output_type": "execute_result",
          "data": {
            "text/plain": [
              "(2, 2, 3)"
            ]
          },
          "metadata": {
            "tags": []
          },
          "execution_count": 27
        }
      ]
    },
    {
      "cell_type": "code",
      "metadata": {
        "colab": {
          "base_uri": "https://localhost:8080/"
        },
        "id": "jFYKMK5oQYgd",
        "outputId": "482e2805-310c-4889-e48d-74ed46e82514"
      },
      "source": [
        "B.ndim"
      ],
      "execution_count": 28,
      "outputs": [
        {
          "output_type": "execute_result",
          "data": {
            "text/plain": [
              "3"
            ]
          },
          "metadata": {
            "tags": []
          },
          "execution_count": 28
        }
      ]
    },
    {
      "cell_type": "code",
      "metadata": {
        "colab": {
          "base_uri": "https://localhost:8080/"
        },
        "id": "AiOPpvmrQdGP",
        "outputId": "72579453-ac01-43fa-d1f3-36114a523d48"
      },
      "source": [
        "B.size"
      ],
      "execution_count": 29,
      "outputs": [
        {
          "output_type": "execute_result",
          "data": {
            "text/plain": [
              "12"
            ]
          },
          "metadata": {
            "tags": []
          },
          "execution_count": 29
        }
      ]
    },
    {
      "cell_type": "markdown",
      "metadata": {
        "id": "Diu_QSVUQvs7"
      },
      "source": [
        "# Indexing and slicing of matrices"
      ]
    },
    {
      "cell_type": "code",
      "metadata": {
        "id": "YX59guP0Qydx"
      },
      "source": [
        "# square matrix\n",
        "A = np.array([\n",
        "              [1,2,3], # 0\n",
        "              [2,3,4], # 1\n",
        "              [7,8,9] #2\n",
        "])"
      ],
      "execution_count": 30,
      "outputs": []
    },
    {
      "cell_type": "code",
      "metadata": {
        "colab": {
          "base_uri": "https://localhost:8080/"
        },
        "id": "kAhewSXFRBVP",
        "outputId": "dac8e133-650d-47cf-cb6f-75890957ee8f"
      },
      "source": [
        "A[1]"
      ],
      "execution_count": 31,
      "outputs": [
        {
          "output_type": "execute_result",
          "data": {
            "text/plain": [
              "array([2, 3, 4])"
            ]
          },
          "metadata": {
            "tags": []
          },
          "execution_count": 31
        }
      ]
    },
    {
      "cell_type": "code",
      "metadata": {
        "colab": {
          "base_uri": "https://localhost:8080/"
        },
        "id": "WI9wnI4ERFEv",
        "outputId": "0c3d9ade-7c02-4908-cc6d-03ffd5f41ace"
      },
      "source": [
        "A[1][0]"
      ],
      "execution_count": 32,
      "outputs": [
        {
          "output_type": "execute_result",
          "data": {
            "text/plain": [
              "2"
            ]
          },
          "metadata": {
            "tags": []
          },
          "execution_count": 32
        }
      ]
    },
    {
      "cell_type": "code",
      "metadata": {
        "colab": {
          "base_uri": "https://localhost:8080/"
        },
        "id": "nIrgOj1uRJ7D",
        "outputId": "4d9eb60c-9edc-43d1-d36b-767bdc697c94"
      },
      "source": [
        "A[1,0] # alternative way to select that same element"
      ],
      "execution_count": 33,
      "outputs": [
        {
          "output_type": "execute_result",
          "data": {
            "text/plain": [
              "2"
            ]
          },
          "metadata": {
            "tags": []
          },
          "execution_count": 33
        }
      ]
    },
    {
      "cell_type": "code",
      "metadata": {
        "colab": {
          "base_uri": "https://localhost:8080/"
        },
        "id": "QDnIv2cdROLQ",
        "outputId": "a2d98420-8338-454c-aa77-1c2af1997b67"
      },
      "source": [
        "A[0:2] # in this way slicing can be done easily"
      ],
      "execution_count": 34,
      "outputs": [
        {
          "output_type": "execute_result",
          "data": {
            "text/plain": [
              "array([[1, 2, 3],\n",
              "       [2, 3, 4]])"
            ]
          },
          "metadata": {
            "tags": []
          },
          "execution_count": 34
        }
      ]
    },
    {
      "cell_type": "code",
      "metadata": {
        "colab": {
          "base_uri": "https://localhost:8080/"
        },
        "id": "CY_JTWQgRVyt",
        "outputId": "8e786600-861b-4334-d00b-b397253b465d"
      },
      "source": [
        "A[:, :2] # slicing just like an matrix"
      ],
      "execution_count": 35,
      "outputs": [
        {
          "output_type": "execute_result",
          "data": {
            "text/plain": [
              "array([[1, 2],\n",
              "       [2, 3],\n",
              "       [7, 8]])"
            ]
          },
          "metadata": {
            "tags": []
          },
          "execution_count": 35
        }
      ]
    },
    {
      "cell_type": "code",
      "metadata": {
        "colab": {
          "base_uri": "https://localhost:8080/"
        },
        "id": "xzwO8eGPRkJK",
        "outputId": "87caa8e7-da85-4ab2-cf9c-048743d95a39"
      },
      "source": [
        "A"
      ],
      "execution_count": 36,
      "outputs": [
        {
          "output_type": "execute_result",
          "data": {
            "text/plain": [
              "array([[1, 2, 3],\n",
              "       [2, 3, 4],\n",
              "       [7, 8, 9]])"
            ]
          },
          "metadata": {
            "tags": []
          },
          "execution_count": 36
        }
      ]
    },
    {
      "cell_type": "code",
      "metadata": {
        "colab": {
          "base_uri": "https://localhost:8080/"
        },
        "id": "lCXHvLgRRxI4",
        "outputId": "3e22d446-0a07-4ee6-eab4-68f6e8774092"
      },
      "source": [
        "A[2]"
      ],
      "execution_count": 37,
      "outputs": [
        {
          "output_type": "execute_result",
          "data": {
            "text/plain": [
              "array([7, 8, 9])"
            ]
          },
          "metadata": {
            "tags": []
          },
          "execution_count": 37
        }
      ]
    },
    {
      "cell_type": "code",
      "metadata": {
        "colab": {
          "base_uri": "https://localhost:8080/"
        },
        "id": "np3bhGakR0dE",
        "outputId": "0cd18cda-e42d-4cfc-9ff9-27468fd7df70"
      },
      "source": [
        "A[1] = np.array([10,10,10])\n",
        "A[2]=99\n",
        "A"
      ],
      "execution_count": 41,
      "outputs": [
        {
          "output_type": "execute_result",
          "data": {
            "text/plain": [
              "array([[ 1,  2,  3],\n",
              "       [10, 10, 10],\n",
              "       [99, 99, 99]])"
            ]
          },
          "metadata": {
            "tags": []
          },
          "execution_count": 41
        }
      ]
    },
    {
      "cell_type": "markdown",
      "metadata": {
        "id": "xaTvfsv_SByM"
      },
      "source": [
        "# Summary statistics"
      ]
    },
    {
      "cell_type": "code",
      "metadata": {
        "id": "sesiTwp0SEFV"
      },
      "source": [
        "a = np.array([1,2,3,4])"
      ],
      "execution_count": 43,
      "outputs": []
    },
    {
      "cell_type": "code",
      "metadata": {
        "colab": {
          "base_uri": "https://localhost:8080/"
        },
        "id": "9o4zLv27SISb",
        "outputId": "34d70c59-9374-461f-ff4f-56db7566eaae"
      },
      "source": [
        "a.sum()"
      ],
      "execution_count": 44,
      "outputs": [
        {
          "output_type": "execute_result",
          "data": {
            "text/plain": [
              "10"
            ]
          },
          "metadata": {
            "tags": []
          },
          "execution_count": 44
        }
      ]
    },
    {
      "cell_type": "code",
      "metadata": {
        "colab": {
          "base_uri": "https://localhost:8080/"
        },
        "id": "TsG1skC-SJke",
        "outputId": "c2e63259-20c0-414b-e61b-04896db692e1"
      },
      "source": [
        "a.mean()"
      ],
      "execution_count": 45,
      "outputs": [
        {
          "output_type": "execute_result",
          "data": {
            "text/plain": [
              "2.5"
            ]
          },
          "metadata": {
            "tags": []
          },
          "execution_count": 45
        }
      ]
    },
    {
      "cell_type": "code",
      "metadata": {
        "colab": {
          "base_uri": "https://localhost:8080/"
        },
        "id": "ht4eOVbtSKsU",
        "outputId": "3d009f6e-3661-41d8-a691-ddaca89c64cf"
      },
      "source": [
        "a.std()"
      ],
      "execution_count": 50,
      "outputs": [
        {
          "output_type": "execute_result",
          "data": {
            "text/plain": [
              "1.118033988749895"
            ]
          },
          "metadata": {
            "tags": []
          },
          "execution_count": 50
        }
      ]
    },
    {
      "cell_type": "code",
      "metadata": {
        "colab": {
          "base_uri": "https://localhost:8080/"
        },
        "id": "xjiztvz8SW9x",
        "outputId": "828ef17e-f61f-4adc-ace7-b20e573f1371"
      },
      "source": [
        "a.var()"
      ],
      "execution_count": 51,
      "outputs": [
        {
          "output_type": "execute_result",
          "data": {
            "text/plain": [
              "1.25"
            ]
          },
          "metadata": {
            "tags": []
          },
          "execution_count": 51
        }
      ]
    },
    {
      "cell_type": "code",
      "metadata": {
        "id": "07RcsU8uSYG3"
      },
      "source": [
        "A = np.array([\n",
        "              [1,2,3], \n",
        "              [4,5,6],\n",
        "              [7,8,9]\n",
        "])"
      ],
      "execution_count": 52,
      "outputs": []
    },
    {
      "cell_type": "code",
      "metadata": {
        "colab": {
          "base_uri": "https://localhost:8080/"
        },
        "id": "O31WHgDKSd75",
        "outputId": "22079b7a-eda1-480e-f455-21903155685a"
      },
      "source": [
        "A.sum()"
      ],
      "execution_count": 53,
      "outputs": [
        {
          "output_type": "execute_result",
          "data": {
            "text/plain": [
              "45"
            ]
          },
          "metadata": {
            "tags": []
          },
          "execution_count": 53
        }
      ]
    },
    {
      "cell_type": "code",
      "metadata": {
        "colab": {
          "base_uri": "https://localhost:8080/"
        },
        "id": "zL0IDTgxSf6L",
        "outputId": "31edd741-4f62-4f23-a5cd-e7d8fcb7a457"
      },
      "source": [
        "A.mean()"
      ],
      "execution_count": 54,
      "outputs": [
        {
          "output_type": "execute_result",
          "data": {
            "text/plain": [
              "5.0"
            ]
          },
          "metadata": {
            "tags": []
          },
          "execution_count": 54
        }
      ]
    },
    {
      "cell_type": "code",
      "metadata": {
        "colab": {
          "base_uri": "https://localhost:8080/"
        },
        "id": "8tvJw_9KSiGM",
        "outputId": "12f9692b-6c16-48fe-fe5d-55cac41598ee"
      },
      "source": [
        "A.std()"
      ],
      "execution_count": 55,
      "outputs": [
        {
          "output_type": "execute_result",
          "data": {
            "text/plain": [
              "2.581988897471611"
            ]
          },
          "metadata": {
            "tags": []
          },
          "execution_count": 55
        }
      ]
    },
    {
      "cell_type": "code",
      "metadata": {
        "colab": {
          "base_uri": "https://localhost:8080/"
        },
        "id": "0Mmk3tPFSjau",
        "outputId": "21ec45e6-e722-444f-c921-643231522897"
      },
      "source": [
        "A.sum(axis=0) # per col"
      ],
      "execution_count": 56,
      "outputs": [
        {
          "output_type": "execute_result",
          "data": {
            "text/plain": [
              "array([12, 15, 18])"
            ]
          },
          "metadata": {
            "tags": []
          },
          "execution_count": 56
        }
      ]
    },
    {
      "cell_type": "code",
      "metadata": {
        "colab": {
          "base_uri": "https://localhost:8080/"
        },
        "id": "yk2bqtFUSw1X",
        "outputId": "4f13e0f6-9d2b-4e10-f5ef-83dca4a13f86"
      },
      "source": [
        "A.sum(axis=1)  # per row"
      ],
      "execution_count": 58,
      "outputs": [
        {
          "output_type": "execute_result",
          "data": {
            "text/plain": [
              "array([ 6, 15, 24])"
            ]
          },
          "metadata": {
            "tags": []
          },
          "execution_count": 58
        }
      ]
    },
    {
      "cell_type": "markdown",
      "metadata": {
        "id": "67bNfCOYTLJQ"
      },
      "source": [
        "# Broadcasting and Vetorizing operations"
      ]
    },
    {
      "cell_type": "code",
      "metadata": {
        "id": "4Vj7JrH3TO-G"
      },
      "source": [
        "a = np.arange(4)"
      ],
      "execution_count": 59,
      "outputs": []
    },
    {
      "cell_type": "code",
      "metadata": {
        "colab": {
          "base_uri": "https://localhost:8080/"
        },
        "id": "SpNki9SZTTx6",
        "outputId": "35eb01b8-0f3f-4454-ff10-1784284ed96c"
      },
      "source": [
        "a"
      ],
      "execution_count": 60,
      "outputs": [
        {
          "output_type": "execute_result",
          "data": {
            "text/plain": [
              "array([0, 1, 2, 3])"
            ]
          },
          "metadata": {
            "tags": []
          },
          "execution_count": 60
        }
      ]
    },
    {
      "cell_type": "code",
      "metadata": {
        "colab": {
          "base_uri": "https://localhost:8080/"
        },
        "id": "d8CjEGIUTUoX",
        "outputId": "201b3c57-db07-4505-e450-b7543ce73f6e"
      },
      "source": [
        "a + 10. # aha like the recycling in R"
      ],
      "execution_count": 61,
      "outputs": [
        {
          "output_type": "execute_result",
          "data": {
            "text/plain": [
              "array([10, 11, 12, 13])"
            ]
          },
          "metadata": {
            "tags": []
          },
          "execution_count": 61
        }
      ]
    },
    {
      "cell_type": "code",
      "metadata": {
        "colab": {
          "base_uri": "https://localhost:8080/"
        },
        "id": "qIDbLij3Tk9z",
        "outputId": "b7ca4377-9fe9-40c7-f7b7-8399a303b5c9"
      },
      "source": [
        "a * 10"
      ],
      "execution_count": 62,
      "outputs": [
        {
          "output_type": "execute_result",
          "data": {
            "text/plain": [
              "array([ 0, 10, 20, 30])"
            ]
          },
          "metadata": {
            "tags": []
          },
          "execution_count": 62
        }
      ]
    },
    {
      "cell_type": "code",
      "metadata": {
        "colab": {
          "base_uri": "https://localhost:8080/"
        },
        "id": "7ChBKo4rTnhM",
        "outputId": "c1d9e6a0-aa5f-493f-c494-8a6f1c9a57e1"
      },
      "source": [
        "a # the operation created a new array and left a UNCHANGED!"
      ],
      "execution_count": 63,
      "outputs": [
        {
          "output_type": "execute_result",
          "data": {
            "text/plain": [
              "array([0, 1, 2, 3])"
            ]
          },
          "metadata": {
            "tags": []
          },
          "execution_count": 63
        }
      ]
    },
    {
      "cell_type": "code",
      "metadata": {
        "id": "softB2enTqE2"
      },
      "source": [
        "a += 100 # this is CHANGING a!!!"
      ],
      "execution_count": 64,
      "outputs": []
    },
    {
      "cell_type": "code",
      "metadata": {
        "colab": {
          "base_uri": "https://localhost:8080/"
        },
        "id": "Qcx9VBnGTviK",
        "outputId": "f2d6f37f-05aa-4d76-ea45-a8cd871b929f"
      },
      "source": [
        "a"
      ],
      "execution_count": 65,
      "outputs": [
        {
          "output_type": "execute_result",
          "data": {
            "text/plain": [
              "array([100, 101, 102, 103])"
            ]
          },
          "metadata": {
            "tags": []
          },
          "execution_count": 65
        }
      ]
    },
    {
      "cell_type": "code",
      "metadata": {
        "colab": {
          "base_uri": "https://localhost:8080/"
        },
        "id": "9NOyETnbTxUX",
        "outputId": "ba93fecf-0f62-4706-e9a4-7d90e5fb3d67"
      },
      "source": [
        "a"
      ],
      "execution_count": 66,
      "outputs": [
        {
          "output_type": "execute_result",
          "data": {
            "text/plain": [
              "array([100, 101, 102, 103])"
            ]
          },
          "metadata": {
            "tags": []
          },
          "execution_count": 66
        }
      ]
    },
    {
      "cell_type": "code",
      "metadata": {
        "id": "26DRKiLLT_Iu"
      },
      "source": [
        "l = [0, 1, 2, 3]"
      ],
      "execution_count": 67,
      "outputs": []
    },
    {
      "cell_type": "code",
      "metadata": {
        "colab": {
          "base_uri": "https://localhost:8080/"
        },
        "id": "ROFe1pWxUCpw",
        "outputId": "e11ca8ec-751d-4f21-c517-7d3ac89ca924"
      },
      "source": [
        "[i * 10 for i in l]"
      ],
      "execution_count": 68,
      "outputs": [
        {
          "output_type": "execute_result",
          "data": {
            "text/plain": [
              "[0, 10, 20, 30]"
            ]
          },
          "metadata": {
            "tags": []
          },
          "execution_count": 68
        }
      ]
    },
    {
      "cell_type": "code",
      "metadata": {
        "colab": {
          "base_uri": "https://localhost:8080/"
        },
        "id": "bR5aifHSUHSk",
        "outputId": "943df47a-52a8-4710-bde4-aad9a92ab8e9"
      },
      "source": [
        "a = np.arange(4)\n",
        "a"
      ],
      "execution_count": 70,
      "outputs": [
        {
          "output_type": "execute_result",
          "data": {
            "text/plain": [
              "array([0, 1, 2, 3])"
            ]
          },
          "metadata": {
            "tags": []
          },
          "execution_count": 70
        }
      ]
    },
    {
      "cell_type": "code",
      "metadata": {
        "colab": {
          "base_uri": "https://localhost:8080/"
        },
        "id": "UwOGeEmDUNJG",
        "outputId": "f9f6a674-5ba7-4491-d398-44ce05a87eb2"
      },
      "source": [
        "b = np.array([10, 10, 10, 10])\n",
        "b"
      ],
      "execution_count": 72,
      "outputs": [
        {
          "output_type": "execute_result",
          "data": {
            "text/plain": [
              "array([10, 10, 10, 10])"
            ]
          },
          "metadata": {
            "tags": []
          },
          "execution_count": 72
        }
      ]
    },
    {
      "cell_type": "code",
      "metadata": {
        "colab": {
          "base_uri": "https://localhost:8080/"
        },
        "id": "Tftc_h0_USqt",
        "outputId": "c9161803-a94e-4f7f-8d27-3483c6ea58a6"
      },
      "source": [
        "a + b"
      ],
      "execution_count": 73,
      "outputs": [
        {
          "output_type": "execute_result",
          "data": {
            "text/plain": [
              "array([10, 11, 12, 13])"
            ]
          },
          "metadata": {
            "tags": []
          },
          "execution_count": 73
        }
      ]
    },
    {
      "cell_type": "code",
      "metadata": {
        "colab": {
          "base_uri": "https://localhost:8080/"
        },
        "id": "832ztz7UUT5F",
        "outputId": "df841665-ce6d-45b8-ef73-a9cdb5b753f7"
      },
      "source": [
        "a * b # works extremely fast"
      ],
      "execution_count": 74,
      "outputs": [
        {
          "output_type": "execute_result",
          "data": {
            "text/plain": [
              "array([ 0, 10, 20, 30])"
            ]
          },
          "metadata": {
            "tags": []
          },
          "execution_count": 74
        }
      ]
    },
    {
      "cell_type": "markdown",
      "metadata": {
        "id": "IauyGqeiUWR4"
      },
      "source": [
        "# Boolean arrays\n",
        "_(also called masks)_\n",
        "\n"
      ]
    },
    {
      "cell_type": "code",
      "metadata": {
        "colab": {
          "base_uri": "https://localhost:8080/"
        },
        "id": "rZiXNmO-UYgb",
        "outputId": "799b1cf5-ad36-4c5a-db79-a654a85efb10"
      },
      "source": [
        "a = np.arange(4)\n",
        "a"
      ],
      "execution_count": 75,
      "outputs": [
        {
          "output_type": "execute_result",
          "data": {
            "text/plain": [
              "array([0, 1, 2, 3])"
            ]
          },
          "metadata": {
            "tags": []
          },
          "execution_count": 75
        }
      ]
    },
    {
      "cell_type": "code",
      "metadata": {
        "colab": {
          "base_uri": "https://localhost:8080/"
        },
        "id": "p2q1dM-4U7yv",
        "outputId": "8767f95e-2d44-429e-f571-968e3bc7d613"
      },
      "source": [
        "a[[0, -1]]"
      ],
      "execution_count": 76,
      "outputs": [
        {
          "output_type": "execute_result",
          "data": {
            "text/plain": [
              "array([0, 3])"
            ]
          },
          "metadata": {
            "tags": []
          },
          "execution_count": 76
        }
      ]
    },
    {
      "cell_type": "code",
      "metadata": {
        "colab": {
          "base_uri": "https://localhost:8080/"
        },
        "id": "yZ0rq3IfVWCI",
        "outputId": "a8f4d418-4404-4ecf-81b4-1969b7088de0"
      },
      "source": [
        "a[[True, False, False, True]]"
      ],
      "execution_count": 77,
      "outputs": [
        {
          "output_type": "execute_result",
          "data": {
            "text/plain": [
              "array([0, 3])"
            ]
          },
          "metadata": {
            "tags": []
          },
          "execution_count": 77
        }
      ]
    },
    {
      "cell_type": "code",
      "metadata": {
        "colab": {
          "base_uri": "https://localhost:8080/"
        },
        "id": "0JpNGWbYVZMH",
        "outputId": "1568cef7-4b64-476a-889d-8286f14e783e"
      },
      "source": [
        "a >= 2"
      ],
      "execution_count": 78,
      "outputs": [
        {
          "output_type": "execute_result",
          "data": {
            "text/plain": [
              "array([False, False,  True,  True])"
            ]
          },
          "metadata": {
            "tags": []
          },
          "execution_count": 78
        }
      ]
    },
    {
      "cell_type": "code",
      "metadata": {
        "colab": {
          "base_uri": "https://localhost:8080/"
        },
        "id": "NENLhZHDVbX8",
        "outputId": "4a20ba14-19da-4b8e-d544-e9d604bf7a69"
      },
      "source": [
        "a[a>=2] # like applying a \"greater than **\" filter"
      ],
      "execution_count": 79,
      "outputs": [
        {
          "output_type": "execute_result",
          "data": {
            "text/plain": [
              "array([2, 3])"
            ]
          },
          "metadata": {
            "tags": []
          },
          "execution_count": 79
        }
      ]
    },
    {
      "cell_type": "code",
      "metadata": {
        "colab": {
          "base_uri": "https://localhost:8080/"
        },
        "id": "UKQ4ZGt_Vjyj",
        "outputId": "b877a063-d6eb-4941-bb5a-8d913c0f56ae"
      },
      "source": [
        "a[a > a.mean()]"
      ],
      "execution_count": 80,
      "outputs": [
        {
          "output_type": "execute_result",
          "data": {
            "text/plain": [
              "array([2, 3])"
            ]
          },
          "metadata": {
            "tags": []
          },
          "execution_count": 80
        }
      ]
    },
    {
      "cell_type": "code",
      "metadata": {
        "colab": {
          "base_uri": "https://localhost:8080/"
        },
        "id": "Z_mPM4sUVn2N",
        "outputId": "59824531-979c-466c-cfc8-8de5112add2f"
      },
      "source": [
        "a[~(a > a.mean())] # less or equal to "
      ],
      "execution_count": 81,
      "outputs": [
        {
          "output_type": "execute_result",
          "data": {
            "text/plain": [
              "array([0, 1])"
            ]
          },
          "metadata": {
            "tags": []
          },
          "execution_count": 81
        }
      ]
    },
    {
      "cell_type": "code",
      "metadata": {
        "colab": {
          "base_uri": "https://localhost:8080/"
        },
        "id": "CWL051vIV7sB",
        "outputId": "fdc1c7fb-36b5-4f6f-d760-828aced6966a"
      },
      "source": [
        "a[(a == 0 | (a == 1))]"
      ],
      "execution_count": 82,
      "outputs": [
        {
          "output_type": "execute_result",
          "data": {
            "text/plain": [
              "array([0, 1])"
            ]
          },
          "metadata": {
            "tags": []
          },
          "execution_count": 82
        }
      ]
    },
    {
      "cell_type": "code",
      "metadata": {
        "colab": {
          "base_uri": "https://localhost:8080/"
        },
        "id": "8rprKpZoWc9R",
        "outputId": "5228267b-de4b-4eed-b495-c1868ed17395"
      },
      "source": [
        "a[(a <= 2) & (a % 2 == 0)]"
      ],
      "execution_count": 83,
      "outputs": [
        {
          "output_type": "execute_result",
          "data": {
            "text/plain": [
              "array([0, 2])"
            ]
          },
          "metadata": {
            "tags": []
          },
          "execution_count": 83
        }
      ]
    },
    {
      "cell_type": "markdown",
      "metadata": {
        "id": "Rjd-T7sYWuP0"
      },
      "source": [
        "also works with matrix"
      ]
    },
    {
      "cell_type": "code",
      "metadata": {
        "id": "izNJqEaTWsdT"
      },
      "source": [
        "A = np.random.randint(100, size = (3,3))"
      ],
      "execution_count": 84,
      "outputs": []
    },
    {
      "cell_type": "code",
      "metadata": {
        "colab": {
          "base_uri": "https://localhost:8080/"
        },
        "id": "AuhNMyI7W1ps",
        "outputId": "595f1e39-5ec9-4429-ba4a-5ddabb9611ac"
      },
      "source": [
        "A"
      ],
      "execution_count": 85,
      "outputs": [
        {
          "output_type": "execute_result",
          "data": {
            "text/plain": [
              "array([[29, 97, 68],\n",
              "       [96, 40, 13],\n",
              "       [32, 56, 81]])"
            ]
          },
          "metadata": {
            "tags": []
          },
          "execution_count": 85
        }
      ]
    },
    {
      "cell_type": "code",
      "metadata": {
        "colab": {
          "base_uri": "https://localhost:8080/"
        },
        "id": "enKTtzNKW2u9",
        "outputId": "578875e9-a16a-44dc-da17-ec1496708949"
      },
      "source": [
        "A[np.array([\n",
        "            [True, False, True],\n",
        "            [False, True, False],\n",
        "            [True, False, True]\n",
        "])]"
      ],
      "execution_count": 86,
      "outputs": [
        {
          "output_type": "execute_result",
          "data": {
            "text/plain": [
              "array([29, 68, 40, 32, 81])"
            ]
          },
          "metadata": {
            "tags": []
          },
          "execution_count": 86
        }
      ]
    },
    {
      "cell_type": "code",
      "metadata": {
        "colab": {
          "base_uri": "https://localhost:8080/"
        },
        "id": "SycsQR4JXE12",
        "outputId": "0199be16-4694-44cf-df2e-b7737b4878ce"
      },
      "source": [
        "A > 80"
      ],
      "execution_count": 87,
      "outputs": [
        {
          "output_type": "execute_result",
          "data": {
            "text/plain": [
              "array([[False,  True, False],\n",
              "       [ True, False, False],\n",
              "       [False, False,  True]])"
            ]
          },
          "metadata": {
            "tags": []
          },
          "execution_count": 87
        }
      ]
    },
    {
      "cell_type": "code",
      "metadata": {
        "colab": {
          "base_uri": "https://localhost:8080/"
        },
        "id": "yI5Dq3UZXHqb",
        "outputId": "9845171d-d100-45ab-f3b8-fef727efbc1e"
      },
      "source": [
        "A[A > 30]"
      ],
      "execution_count": 88,
      "outputs": [
        {
          "output_type": "execute_result",
          "data": {
            "text/plain": [
              "array([97, 68, 96, 40, 32, 56, 81])"
            ]
          },
          "metadata": {
            "tags": []
          },
          "execution_count": 88
        }
      ]
    },
    {
      "cell_type": "markdown",
      "metadata": {
        "id": "3NComtt5XL6d"
      },
      "source": [
        "# Linear Algebra"
      ]
    },
    {
      "cell_type": "code",
      "metadata": {
        "colab": {
          "base_uri": "https://localhost:8080/"
        },
        "id": "TLmGYoxrXOKa",
        "outputId": "dc2f3c3c-871c-4b08-c7d5-4bddfecc21f1"
      },
      "source": [
        "A = np.random.randint(100, size = (3,3))\n",
        "A"
      ],
      "execution_count": 90,
      "outputs": [
        {
          "output_type": "execute_result",
          "data": {
            "text/plain": [
              "array([[22, 43, 88],\n",
              "       [33,  7, 10],\n",
              "       [40, 40, 15]])"
            ]
          },
          "metadata": {
            "tags": []
          },
          "execution_count": 90
        }
      ]
    },
    {
      "cell_type": "code",
      "metadata": {
        "colab": {
          "base_uri": "https://localhost:8080/"
        },
        "id": "Wl6israQXweB",
        "outputId": "146163e9-b86e-44f3-ba59-3487e10948e6"
      },
      "source": [
        "B = np.random.randint(50, size = (3,2))\n",
        "B"
      ],
      "execution_count": 93,
      "outputs": [
        {
          "output_type": "execute_result",
          "data": {
            "text/plain": [
              "array([[24, 28],\n",
              "       [41, 22],\n",
              "       [ 1, 41]])"
            ]
          },
          "metadata": {
            "tags": []
          },
          "execution_count": 93
        }
      ]
    },
    {
      "cell_type": "code",
      "metadata": {
        "colab": {
          "base_uri": "https://localhost:8080/"
        },
        "id": "egkqK8fOX2RS",
        "outputId": "fdc53f49-aa77-423b-f6ca-66d7a4260bab"
      },
      "source": [
        "A.dot(B) # matrix multiply"
      ],
      "execution_count": 94,
      "outputs": [
        {
          "output_type": "execute_result",
          "data": {
            "text/plain": [
              "array([[2379, 5170],\n",
              "       [1089, 1488],\n",
              "       [2615, 2615]])"
            ]
          },
          "metadata": {
            "tags": []
          },
          "execution_count": 94
        }
      ]
    },
    {
      "cell_type": "code",
      "metadata": {
        "colab": {
          "base_uri": "https://localhost:8080/"
        },
        "id": "X9JgBd0CYBOv",
        "outputId": "59788a35-f489-4132-9bd1-267dc81639f2"
      },
      "source": [
        "A @ B"
      ],
      "execution_count": 95,
      "outputs": [
        {
          "output_type": "execute_result",
          "data": {
            "text/plain": [
              "array([[2379, 5170],\n",
              "       [1089, 1488],\n",
              "       [2615, 2615]])"
            ]
          },
          "metadata": {
            "tags": []
          },
          "execution_count": 95
        }
      ]
    },
    {
      "cell_type": "code",
      "metadata": {
        "colab": {
          "base_uri": "https://localhost:8080/"
        },
        "id": "F83zXy_nYGBD",
        "outputId": "395d4ecc-267f-432a-b301-664885f05cea"
      },
      "source": [
        "B.T"
      ],
      "execution_count": 96,
      "outputs": [
        {
          "output_type": "execute_result",
          "data": {
            "text/plain": [
              "array([[24, 41,  1],\n",
              "       [28, 22, 41]])"
            ]
          },
          "metadata": {
            "tags": []
          },
          "execution_count": 96
        }
      ]
    },
    {
      "cell_type": "code",
      "metadata": {
        "colab": {
          "base_uri": "https://localhost:8080/"
        },
        "id": "qoTwQmjyYNsI",
        "outputId": "fb052c6f-cf2c-402d-8321-9635c39db015"
      },
      "source": [
        "B.T @ A"
      ],
      "execution_count": 97,
      "outputs": [
        {
          "output_type": "execute_result",
          "data": {
            "text/plain": [
              "array([[1921, 1359, 2537],\n",
              "       [2982, 2998, 3299]])"
            ]
          },
          "metadata": {
            "tags": []
          },
          "execution_count": 97
        }
      ]
    },
    {
      "cell_type": "markdown",
      "metadata": {
        "id": "4jIFOO8PYRNK"
      },
      "source": [
        "# Size of objects in Memory"
      ]
    },
    {
      "cell_type": "markdown",
      "metadata": {
        "id": "VGGBI6nfYV7y"
      },
      "source": [
        "## Int, floats"
      ]
    },
    {
      "cell_type": "code",
      "metadata": {
        "colab": {
          "base_uri": "https://localhost:8080/"
        },
        "id": "29pEEmesYQSV",
        "outputId": "a666ac2c-7136-4761-ea1f-5555ef266d70"
      },
      "source": [
        "# An integer in Python is > 24bytes\n",
        "import sys\n",
        "sys.getsizeof(1)"
      ],
      "execution_count": 99,
      "outputs": [
        {
          "output_type": "execute_result",
          "data": {
            "text/plain": [
              "28"
            ]
          },
          "metadata": {
            "tags": []
          },
          "execution_count": 99
        }
      ]
    },
    {
      "cell_type": "code",
      "metadata": {
        "id": "nSOYtzQzY0nW"
      },
      "source": [
        "# Longs are even larger"
      ],
      "execution_count": null,
      "outputs": []
    }
  ]
}